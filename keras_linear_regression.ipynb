{
  "nbformat": 4,
  "nbformat_minor": 0,
  "metadata": {
    "colab": {
      "name": "keras_linear_regression.ipynb",
      "provenance": [],
      "authorship_tag": "ABX9TyOfyZqPUe/u3/CEy3TKJyxQ",
      "include_colab_link": true
    },
    "kernelspec": {
      "name": "python3",
      "display_name": "Python 3"
    }
  },
  "cells": [
    {
      "cell_type": "markdown",
      "metadata": {
        "id": "view-in-github",
        "colab_type": "text"
      },
      "source": [
        "<a href=\"https://colab.research.google.com/github/carloshernangarrido/Raschka-Book-Examples/blob/main/keras_linear_regression.ipynb\" target=\"_parent\"><img src=\"https://colab.research.google.com/assets/colab-badge.svg\" alt=\"Open In Colab\"/></a>"
      ]
    },
    {
      "cell_type": "code",
      "metadata": {
        "id": "uyyed12Xnd-g"
      },
      "source": [
        "import numpy as np\r\n",
        "import matplotlib.pyplot as plt\r\n",
        "import tensorflow as tf"
      ],
      "execution_count": 2,
      "outputs": []
    },
    {
      "cell_type": "code",
      "metadata": {
        "id": "TgdU6jxnnraS"
      },
      "source": [
        "X_train = np.arange(10).reshape((10, 1))\r\n",
        "y_train = np.array([1.0, 1.3, 3.1, 2.0, 5.0, 6.3, 6.6, 7.4, 8.0, 9.0])"
      ],
      "execution_count": 3,
      "outputs": []
    },
    {
      "cell_type": "code",
      "metadata": {
        "colab": {
          "base_uri": "https://localhost:8080/",
          "height": 296
        },
        "id": "Sljmxhs2oCd1",
        "outputId": "203c1590-4190-4b13-fd36-765622f2b7e7"
      },
      "source": [
        "plt.plot(X_train, y_train, 'o', markersize=10)\r\n",
        "plt.xlabel('x')\r\n",
        "plt.ylabel('y')\r\n",
        "plt.show"
      ],
      "execution_count": 4,
      "outputs": [
        {
          "output_type": "execute_result",
          "data": {
            "text/plain": [
              "<function matplotlib.pyplot.show>"
            ]
          },
          "metadata": {
            "tags": []
          },
          "execution_count": 4
        },
        {
          "output_type": "display_data",
          "data": {
            "image/png": "[encoded data removed]",
            "text/plain": [
              "<Figure size 432x288 with 1 Axes>"
            ]
          },
          "metadata": {
            "tags": [],
            "needs_background": "light"
          }
        }
      ]
    },
    {
      "cell_type": "code",
      "metadata": {
        "colab": {
          "base_uri": "https://localhost:8080/",
          "height": 296
        },
        "id": "FR6P4tUuoaes",
        "outputId": "723337bd-e288-4d09-bda9-6464905fe63f"
      },
      "source": [
        "# Standarization\r\n",
        "X_train_norm = (X_train - np.mean(X_train)) / np.std(X_train)\r\n",
        "plt.plot(X_train_norm, y_train, 'o', markersize=10)\r\n",
        "plt.xlabel('x')\r\n",
        "plt.ylabel('y')\r\n",
        "plt.show"
      ],
      "execution_count": 5,
      "outputs": [
        {
          "output_type": "execute_result",
          "data": {
            "text/plain": [
              "<function matplotlib.pyplot.show>"
            ]
          },
          "metadata": {
            "tags": []
          },
          "execution_count": 5
        },
        {
          "output_type": "display_data",
          "data": {
            "image/png": "[encoded data removed]",
            "text/plain": [
              "<Figure size 432x288 with 1 Axes>"
            ]
          },
          "metadata": {
            "tags": [],
            "needs_background": "light"
          }
        }
      ]
    },
    {
      "cell_type": "code",
      "metadata": {
        "colab": {
          "base_uri": "https://localhost:8080/"
        },
        "id": "wKvp_rZ8o7fk",
        "outputId": "5747c9d3-9712-4282-c152-974e3d0a4a6a"
      },
      "source": [
        "# Tensowflow dataset\r\n",
        "ds_train_orig = tf.data.Dataset.from_tensor_slices(\r\n",
        "    (tf.cast(X_train_norm, tf.float32), tf.cast(y_train, tf.float32)))\r\n",
        "ds_train_orig"
      ],
      "execution_count": 6,
      "outputs": [
        {
          "output_type": "execute_result",
          "data": {
            "text/plain": [
              "<TensorSliceDataset shapes: ((1,), ()), types: (tf.float32, tf.float32)>"
            ]
          },
          "metadata": {
            "tags": []
          },
          "execution_count": 6
        }
      ]
    },
    {
      "cell_type": "code",
      "metadata": {
        "colab": {
          "base_uri": "https://localhost:8080/"
        },
        "id": "WdtrL1YwqaJM",
        "outputId": "366fd0a2-5827-466c-d761-2ebae9c8d8b1"
      },
      "source": [
        "# Subclassing tf.keras.Model\r\n",
        "\r\n",
        "class MyModel(tf.keras.Model):\r\n",
        "  def __init__(self):\r\n",
        "    super(MyModel, self).__init__()\r\n",
        "    self.w = tf.Variable(0.0, name='weight')\r\n",
        "    self.b = tf.Variable(0.0, name='bias')\r\n",
        "\r\n",
        "  def call(self, x):\r\n",
        "    return self.w * x + self.b\r\n",
        "\r\n",
        "\r\n",
        "# Instatieing the new class\r\n",
        "model = MyModel()\r\n",
        "model.build(input_shape=(None, 1))\r\n",
        "model.summary()"
      ],
      "execution_count": 7,
      "outputs": [
        {
          "output_type": "stream",
          "text": [
            "Model: \"my_model\"\n",
            "_________________________________________________________________\n",
            "Layer (type)                 Output Shape              Param #   \n",
            "=================================================================\n",
            "Total params: 2\n",
            "Trainable params: 2\n",
            "Non-trainable params: 0\n",
            "_________________________________________________________________\n"
          ],
          "name": "stdout"
        }
      ]
    },
    {
      "cell_type": "code",
      "metadata": {
        "id": "lJEL6T3fy11Y"
      },
      "source": [
        "# Defining a metric for training\r\n",
        "def loss_fn(y_true, y_pred):\r\n",
        "  return tf.reduce_mean(tf.square(y_true - y_pred))\r\n",
        "\r\n",
        "# Defining a training method (stochastic gradiend descent)\r\n",
        "def train(model, inputs, outputs, learning_rate):\r\n",
        "  with tf.GradientTape() as tape:\r\n",
        "    current_loss = loss_fn(model(inputs), outputs)\r\n",
        "  dW, db = tape.gradient(current_loss, [model.w, model.b])\r\n",
        "  model.w.assign_sub(learning_rate * dW)\r\n",
        "  model.b.assign_sub(learning_rate * db)"
      ],
      "execution_count": 19,
      "outputs": []
    },
    {
      "cell_type": "code",
      "metadata": {
        "id": "F8bAKBmq8JD-"
      },
      "source": [
        "# Defining hiperparameters\r\n",
        "tf.random.set_seed(1)\r\n",
        "num_epochs = 200\r\n",
        "log_steps = 100\r\n",
        "learning_rate = 0.001\r\n",
        "batch_size = 1\r\n",
        "steps_per_epoch = int(np.ceil(len(y_train) / batch_size))"
      ],
      "execution_count": 9,
      "outputs": []
    },
    {
      "cell_type": "code",
      "metadata": {
        "id": "RPgZpmAX8Qp7"
      },
      "source": [
        "# Preparing the dataset\r\n",
        "ds_train = ds_train_orig.shuffle(buffer_size=len(y_train))\\\r\n",
        ".repeat(count=None)\\\r\n",
        ".batch(1)\r\n",
        "Ws, bs = [], []"
      ],
      "execution_count": 17,
      "outputs": []
    },
    {
      "cell_type": "code",
      "metadata": {
        "colab": {
          "base_uri": "https://localhost:8080/"
        },
        "id": "wnDCwpU--Znl",
        "outputId": "9840122b-0bca-47ec-9af5-12661b854643"
      },
      "source": [
        "# Training ...\r\n",
        "for i, batch in enumerate(ds_train):\r\n",
        "  if i >= steps_per_epoch * num_epochs:\r\n",
        "    # break the infinite loop\r\n",
        "    break\r\n",
        "\r\n",
        "  Ws.append(model.w.numpy())\r\n",
        "  bs.append(model.b.numpy())\r\n",
        "\r\n",
        "  bx, by = batch\r\n",
        "  loss_val = loss_fn(model(bx), by)\r\n",
        "  \r\n",
        "  train(model, bx, by, learning_rate=learning_rate)\r\n",
        "  if i%log_steps==0:\r\n",
        "    print('Epoch {:4d} Step {:2d} Loss {:6.4f}'.\r\n",
        "          format(int(i/steps_per_epoch), i, loss_val))"
      ],
      "execution_count": 20,
      "outputs": [
        {
          "output_type": "stream",
          "text": [
            "Epoch    0 Step  0 Loss 3.9956\n",
            "Epoch   10 Step 100 Loss 0.7483\n",
            "Epoch   20 Step 200 Loss 0.6807\n",
            "Epoch   30 Step 300 Loss 8.8028\n",
            "Epoch   40 Step 400 Loss 6.3460\n",
            "Epoch   50 Step 500 Loss 8.1591\n",
            "Epoch   60 Step 600 Loss 3.4334\n",
            "Epoch   70 Step 700 Loss 2.5842\n",
            "Epoch   80 Step 800 Loss 2.2535\n",
            "Epoch   90 Step 900 Loss 3.0808\n",
            "Epoch  100 Step 1000 Loss 0.7158\n",
            "Epoch  110 Step 1100 Loss 0.1238\n",
            "Epoch  120 Step 1200 Loss 0.1136\n",
            "Epoch  130 Step 1300 Loss 0.3787\n",
            "Epoch  140 Step 1400 Loss 1.7985\n",
            "Epoch  150 Step 1500 Loss 0.0944\n",
            "Epoch  160 Step 1600 Loss 0.0905\n",
            "Epoch  170 Step 1700 Loss 0.0090\n",
            "Epoch  180 Step 1800 Loss 0.0015\n",
            "Epoch  190 Step 1900 Loss 0.0072\n"
          ],
          "name": "stdout"
        }
      ]
    },
    {
      "cell_type": "code",
      "metadata": {
        "colab": {
          "base_uri": "https://localhost:8080/"
        },
        "id": "CBYe9er6AbJ_",
        "outputId": "b9cfb1b6-b1a2-47ef-c77f-1cd33869f801"
      },
      "source": [
        "########################################################\r\n",
        "# Compile a model to be trained by using the Keras API #\r\n",
        "########################################################\r\n",
        "\r\n",
        "tf.random.set_seed(1)\r\n",
        "model = MyModel()\r\n",
        "model.compile(optimizer='sgd', \r\n",
        "              loss=loss_fn,\r\n",
        "              metrics=['mae', 'mse'])\r\n",
        "model.fit(X_train_norm, y_train,\r\n",
        "          epochs=num_epochs, batch_size=batch_size,\r\n",
        "          verbose=1)\r\n"
      ],
      "execution_count": 21,
      "outputs": [
        {
          "output_type": "stream",
          "text": [
            "Epoch 1/200\n",
            "10/10 [==============================] - 0s 1ms/step - loss: 24.1936 - mae: 4.2272 - mse: 24.1936\n",
            "Epoch 2/200\n",
            "10/10 [==============================] - 0s 996us/step - loss: 23.8432 - mae: 4.2359 - mse: 23.8432\n",
            "Epoch 3/200\n",
            "10/10 [==============================] - 0s 971us/step - loss: 14.6246 - mae: 3.3842 - mse: 14.6246\n",
            "Epoch 4/200\n",
            "10/10 [==============================] - 0s 999us/step - loss: 8.2254 - mae: 2.5414 - mse: 8.2254\n",
            "Epoch 5/200\n",
            "10/10 [==============================] - 0s 1ms/step - loss: 5.2206 - mae: 1.9139 - mse: 5.2206\n",
            "Epoch 6/200\n",
            "10/10 [==============================] - 0s 1ms/step - loss: 3.3134 - mae: 1.5093 - mse: 3.3134\n",
            "Epoch 7/200\n",
            "10/10 [==============================] - 0s 1ms/step - loss: 2.9805 - mae: 1.5563 - mse: 2.9805\n",
            "Epoch 8/200\n",
            "10/10 [==============================] - 0s 1ms/step - loss: 2.1105 - mae: 1.2776 - mse: 2.1105\n",
            "Epoch 9/200\n",
            "10/10 [==============================] - 0s 1ms/step - loss: 1.8970 - mae: 1.2999 - mse: 1.8970\n",
            "Epoch 10/200\n",
            "10/10 [==============================] - 0s 1ms/step - loss: 0.9328 - mae: 0.8259 - mse: 0.9328\n",
            "Epoch 11/200\n",
            "10/10 [==============================] - 0s 965us/step - loss: 0.8887 - mae: 0.9152 - mse: 0.8887\n",
            "Epoch 12/200\n",
            "10/10 [==============================] - 0s 1ms/step - loss: 0.8297 - mae: 0.8509 - mse: 0.8297\n",
            "Epoch 13/200\n",
            "10/10 [==============================] - 0s 1ms/step - loss: 0.4450 - mae: 0.6094 - mse: 0.4450\n",
            "Epoch 14/200\n",
            "10/10 [==============================] - 0s 1ms/step - loss: 0.4804 - mae: 0.6258 - mse: 0.4804\n",
            "Epoch 15/200\n",
            "10/10 [==============================] - 0s 1ms/step - loss: 0.2817 - mae: 0.4591 - mse: 0.2817\n",
            "Epoch 16/200\n",
            "10/10 [==============================] - 0s 1ms/step - loss: 0.5373 - mae: 0.6403 - mse: 0.5373\n",
            "Epoch 17/200\n",
            "10/10 [==============================] - 0s 1ms/step - loss: 0.5201 - mae: 0.5549 - mse: 0.5201\n",
            "Epoch 18/200\n",
            "10/10 [==============================] - 0s 1ms/step - loss: 0.2951 - mae: 0.3662 - mse: 0.2951\n",
            "Epoch 19/200\n",
            "10/10 [==============================] - 0s 1ms/step - loss: 0.1942 - mae: 0.3403 - mse: 0.1942\n",
            "Epoch 20/200\n",
            "10/10 [==============================] - 0s 1ms/step - loss: 0.3044 - mae: 0.4255 - mse: 0.3044\n",
            "Epoch 21/200\n",
            "10/10 [==============================] - 0s 955us/step - loss: 0.2795 - mae: 0.4237 - mse: 0.2795\n",
            "Epoch 22/200\n",
            "10/10 [==============================] - 0s 1ms/step - loss: 0.4555 - mae: 0.5399 - mse: 0.4555\n",
            "Epoch 23/200\n",
            "10/10 [==============================] - 0s 2ms/step - loss: 0.3626 - mae: 0.4391 - mse: 0.3626\n",
            "Epoch 24/200\n",
            "10/10 [==============================] - 0s 1ms/step - loss: 0.3867 - mae: 0.4689 - mse: 0.3867\n",
            "Epoch 25/200\n",
            "10/10 [==============================] - 0s 1ms/step - loss: 0.2394 - mae: 0.3927 - mse: 0.2394\n",
            "Epoch 26/200\n",
            "10/10 [==============================] - 0s 1ms/step - loss: 0.3912 - mae: 0.5012 - mse: 0.3912\n",
            "Epoch 27/200\n",
            "10/10 [==============================] - 0s 1ms/step - loss: 0.3323 - mae: 0.4379 - mse: 0.3323\n",
            "Epoch 28/200\n",
            "10/10 [==============================] - 0s 1ms/step - loss: 0.3846 - mae: 0.5338 - mse: 0.3846\n",
            "Epoch 29/200\n",
            "10/10 [==============================] - 0s 1ms/step - loss: 0.2362 - mae: 0.3619 - mse: 0.2362\n",
            "Epoch 30/200\n",
            "10/10 [==============================] - 0s 1ms/step - loss: 0.7851 - mae: 0.6926 - mse: 0.7851\n",
            "Epoch 31/200\n",
            "10/10 [==============================] - 0s 1ms/step - loss: 0.4120 - mae: 0.4843 - mse: 0.4120\n",
            "Epoch 32/200\n",
            "10/10 [==============================] - 0s 1ms/step - loss: 0.3847 - mae: 0.5144 - mse: 0.3847\n",
            "Epoch 33/200\n",
            "10/10 [==============================] - 0s 2ms/step - loss: 0.3172 - mae: 0.4187 - mse: 0.3172\n",
            "Epoch 34/200\n",
            "10/10 [==============================] - 0s 1ms/step - loss: 0.3349 - mae: 0.4898 - mse: 0.3349\n",
            "Epoch 35/200\n",
            "10/10 [==============================] - 0s 1ms/step - loss: 0.5377 - mae: 0.5119 - mse: 0.5377\n",
            "Epoch 36/200\n",
            "10/10 [==============================] - 0s 1ms/step - loss: 0.3101 - mae: 0.4002 - mse: 0.3101\n",
            "Epoch 37/200\n",
            "10/10 [==============================] - 0s 1ms/step - loss: 0.2176 - mae: 0.3924 - mse: 0.2176\n",
            "Epoch 38/200\n",
            "10/10 [==============================] - 0s 1ms/step - loss: 0.7601 - mae: 0.6564 - mse: 0.7601\n",
            "Epoch 39/200\n",
            "10/10 [==============================] - 0s 1ms/step - loss: 0.2445 - mae: 0.4100 - mse: 0.2445\n",
            "Epoch 40/200\n",
            "10/10 [==============================] - 0s 1ms/step - loss: 0.8047 - mae: 0.7008 - mse: 0.8047\n",
            "Epoch 41/200\n",
            "10/10 [==============================] - 0s 1ms/step - loss: 0.3977 - mae: 0.5399 - mse: 0.3977\n",
            "Epoch 42/200\n",
            "10/10 [==============================] - 0s 1ms/step - loss: 0.7664 - mae: 0.6607 - mse: 0.7664\n",
            "Epoch 43/200\n",
            "10/10 [==============================] - 0s 1ms/step - loss: 0.2975 - mae: 0.3668 - mse: 0.2975\n",
            "Epoch 44/200\n",
            "10/10 [==============================] - 0s 1ms/step - loss: 0.2591 - mae: 0.4132 - mse: 0.2591\n",
            "Epoch 45/200\n",
            "10/10 [==============================] - 0s 1ms/step - loss: 0.3172 - mae: 0.4248 - mse: 0.3172\n",
            "Epoch 46/200\n",
            "10/10 [==============================] - 0s 2ms/step - loss: 0.4192 - mae: 0.5029 - mse: 0.4192\n",
            "Epoch 47/200\n",
            "10/10 [==============================] - 0s 1ms/step - loss: 0.3936 - mae: 0.4583 - mse: 0.3936\n",
            "Epoch 48/200\n",
            "10/10 [==============================] - 0s 2ms/step - loss: 0.8113 - mae: 0.7212 - mse: 0.8113\n",
            "Epoch 49/200\n",
            "10/10 [==============================] - 0s 1ms/step - loss: 0.5620 - mae: 0.5484 - mse: 0.5620\n",
            "Epoch 50/200\n",
            "10/10 [==============================] - 0s 1ms/step - loss: 0.3538 - mae: 0.5022 - mse: 0.3538\n",
            "Epoch 51/200\n",
            "10/10 [==============================] - 0s 1ms/step - loss: 0.5954 - mae: 0.6010 - mse: 0.5954\n",
            "Epoch 52/200\n",
            "10/10 [==============================] - 0s 1ms/step - loss: 0.5402 - mae: 0.5305 - mse: 0.5402\n",
            "Epoch 53/200\n",
            "10/10 [==============================] - 0s 1ms/step - loss: 0.8653 - mae: 0.7598 - mse: 0.8653\n",
            "Epoch 54/200\n",
            "10/10 [==============================] - 0s 2ms/step - loss: 0.2562 - mae: 0.3927 - mse: 0.2562\n",
            "Epoch 55/200\n",
            "10/10 [==============================] - 0s 2ms/step - loss: 0.2042 - mae: 0.3775 - mse: 0.2042\n",
            "Epoch 56/200\n",
            "10/10 [==============================] - 0s 1ms/step - loss: 0.2483 - mae: 0.3920 - mse: 0.2483\n",
            "Epoch 57/200\n",
            "10/10 [==============================] - 0s 1ms/step - loss: 0.3864 - mae: 0.5002 - mse: 0.3864\n",
            "Epoch 58/200\n",
            "10/10 [==============================] - 0s 2ms/step - loss: 0.2718 - mae: 0.4285 - mse: 0.2718\n",
            "Epoch 59/200\n",
            "10/10 [==============================] - 0s 1ms/step - loss: 0.2321 - mae: 0.4072 - mse: 0.2321\n",
            "Epoch 60/200\n",
            "10/10 [==============================] - 0s 1ms/step - loss: 0.5449 - mae: 0.5434 - mse: 0.5449\n",
            "Epoch 61/200\n",
            "10/10 [==============================] - 0s 1ms/step - loss: 0.2031 - mae: 0.3883 - mse: 0.2031\n",
            "Epoch 62/200\n",
            "10/10 [==============================] - 0s 1ms/step - loss: 0.7934 - mae: 0.7047 - mse: 0.7934\n",
            "Epoch 63/200\n",
            "10/10 [==============================] - 0s 1ms/step - loss: 0.5936 - mae: 0.5950 - mse: 0.5936\n",
            "Epoch 64/200\n",
            "10/10 [==============================] - 0s 1ms/step - loss: 0.2606 - mae: 0.3668 - mse: 0.2606\n",
            "Epoch 65/200\n",
            "10/10 [==============================] - 0s 2ms/step - loss: 0.3438 - mae: 0.4384 - mse: 0.3438\n",
            "Epoch 66/200\n",
            "10/10 [==============================] - 0s 1ms/step - loss: 0.4675 - mae: 0.5118 - mse: 0.4675\n",
            "Epoch 67/200\n",
            "10/10 [==============================] - 0s 1ms/step - loss: 0.2584 - mae: 0.3911 - mse: 0.2584\n",
            "Epoch 68/200\n",
            "10/10 [==============================] - 0s 1ms/step - loss: 0.5875 - mae: 0.6291 - mse: 0.5875\n",
            "Epoch 69/200\n",
            "10/10 [==============================] - 0s 1ms/step - loss: 0.1821 - mae: 0.3141 - mse: 0.1821\n",
            "Epoch 70/200\n",
            "10/10 [==============================] - 0s 1ms/step - loss: 0.3040 - mae: 0.4118 - mse: 0.3040\n",
            "Epoch 71/200\n",
            "10/10 [==============================] - 0s 1ms/step - loss: 0.4544 - mae: 0.5132 - mse: 0.4544\n",
            "Epoch 72/200\n",
            "10/10 [==============================] - 0s 1ms/step - loss: 0.5460 - mae: 0.5342 - mse: 0.5460\n",
            "Epoch 73/200\n",
            "10/10 [==============================] - 0s 1ms/step - loss: 0.3320 - mae: 0.4542 - mse: 0.3320\n",
            "Epoch 74/200\n",
            "10/10 [==============================] - 0s 936us/step - loss: 0.3499 - mae: 0.4605 - mse: 0.3499\n",
            "Epoch 75/200\n",
            "10/10 [==============================] - 0s 1ms/step - loss: 0.7681 - mae: 0.6484 - mse: 0.7681\n",
            "Epoch 76/200\n",
            "10/10 [==============================] - 0s 1ms/step - loss: 0.5020 - mae: 0.5340 - mse: 0.5020\n",
            "Epoch 77/200\n",
            "10/10 [==============================] - 0s 1ms/step - loss: 0.1693 - mae: 0.3262 - mse: 0.1693\n",
            "Epoch 78/200\n",
            "10/10 [==============================] - 0s 1ms/step - loss: 0.2092 - mae: 0.3847 - mse: 0.2092\n",
            "Epoch 79/200\n",
            "10/10 [==============================] - 0s 1ms/step - loss: 0.2162 - mae: 0.3704 - mse: 0.2162\n",
            "Epoch 80/200\n",
            "10/10 [==============================] - 0s 1ms/step - loss: 0.2709 - mae: 0.4493 - mse: 0.2709\n",
            "Epoch 81/200\n",
            "10/10 [==============================] - 0s 1ms/step - loss: 0.4762 - mae: 0.4814 - mse: 0.4762\n",
            "Epoch 82/200\n",
            "10/10 [==============================] - 0s 1ms/step - loss: 0.2886 - mae: 0.3843 - mse: 0.2886\n",
            "Epoch 83/200\n",
            "10/10 [==============================] - 0s 1ms/step - loss: 0.8198 - mae: 0.7211 - mse: 0.8198\n",
            "Epoch 84/200\n",
            "10/10 [==============================] - 0s 1ms/step - loss: 0.3680 - mae: 0.4936 - mse: 0.3680\n",
            "Epoch 85/200\n",
            "10/10 [==============================] - 0s 1ms/step - loss: 0.3039 - mae: 0.4221 - mse: 0.3039\n",
            "Epoch 86/200\n",
            "10/10 [==============================] - 0s 1ms/step - loss: 0.4454 - mae: 0.4715 - mse: 0.4454\n",
            "Epoch 87/200\n",
            "10/10 [==============================] - 0s 1ms/step - loss: 0.3610 - mae: 0.5144 - mse: 0.3610\n",
            "Epoch 88/200\n",
            "10/10 [==============================] - 0s 1ms/step - loss: 0.8376 - mae: 0.7377 - mse: 0.8376\n",
            "Epoch 89/200\n",
            "10/10 [==============================] - 0s 2ms/step - loss: 0.5671 - mae: 0.5372 - mse: 0.5671\n",
            "Epoch 90/200\n",
            "10/10 [==============================] - 0s 1ms/step - loss: 0.7518 - mae: 0.6427 - mse: 0.7518\n",
            "Epoch 91/200\n",
            "10/10 [==============================] - 0s 1ms/step - loss: 0.6157 - mae: 0.5943 - mse: 0.6157\n",
            "Epoch 92/200\n",
            "10/10 [==============================] - 0s 1ms/step - loss: 0.2529 - mae: 0.3548 - mse: 0.2529\n",
            "Epoch 93/200\n",
            "10/10 [==============================] - 0s 1ms/step - loss: 0.2084 - mae: 0.3424 - mse: 0.2084\n",
            "Epoch 94/200\n",
            "10/10 [==============================] - 0s 1ms/step - loss: 0.3353 - mae: 0.4665 - mse: 0.3353\n",
            "Epoch 95/200\n",
            "10/10 [==============================] - 0s 1ms/step - loss: 0.2514 - mae: 0.3911 - mse: 0.2514\n",
            "Epoch 96/200\n",
            "10/10 [==============================] - 0s 1ms/step - loss: 0.2906 - mae: 0.4099 - mse: 0.2906\n",
            "Epoch 97/200\n",
            "10/10 [==============================] - 0s 1ms/step - loss: 0.5654 - mae: 0.5620 - mse: 0.5654\n",
            "Epoch 98/200\n",
            "10/10 [==============================] - 0s 1ms/step - loss: 0.3141 - mae: 0.4159 - mse: 0.3141\n",
            "Epoch 99/200\n",
            "10/10 [==============================] - 0s 1ms/step - loss: 0.4902 - mae: 0.5318 - mse: 0.4902\n",
            "Epoch 100/200\n",
            "10/10 [==============================] - 0s 1ms/step - loss: 0.1871 - mae: 0.3171 - mse: 0.1871\n",
            "Epoch 101/200\n",
            "10/10 [==============================] - 0s 1ms/step - loss: 0.2352 - mae: 0.4121 - mse: 0.2352\n",
            "Epoch 102/200\n",
            "10/10 [==============================] - 0s 1ms/step - loss: 0.2772 - mae: 0.4280 - mse: 0.2772\n",
            "Epoch 103/200\n",
            "10/10 [==============================] - 0s 1ms/step - loss: 0.2917 - mae: 0.3983 - mse: 0.2917\n",
            "Epoch 104/200\n",
            "10/10 [==============================] - 0s 1ms/step - loss: 0.6239 - mae: 0.6193 - mse: 0.6239\n",
            "Epoch 105/200\n",
            "10/10 [==============================] - 0s 1ms/step - loss: 0.8162 - mae: 0.7137 - mse: 0.8162\n",
            "Epoch 106/200\n",
            "10/10 [==============================] - 0s 1ms/step - loss: 0.5585 - mae: 0.6069 - mse: 0.5585\n",
            "Epoch 107/200\n",
            "10/10 [==============================] - 0s 1ms/step - loss: 0.3350 - mae: 0.4842 - mse: 0.3350\n",
            "Epoch 108/200\n",
            "10/10 [==============================] - 0s 1ms/step - loss: 0.7845 - mae: 0.6904 - mse: 0.7845\n",
            "Epoch 109/200\n",
            "10/10 [==============================] - 0s 2ms/step - loss: 0.3094 - mae: 0.3954 - mse: 0.3094\n",
            "Epoch 110/200\n",
            "10/10 [==============================] - 0s 2ms/step - loss: 0.2588 - mae: 0.4099 - mse: 0.2588\n",
            "Epoch 111/200\n",
            "10/10 [==============================] - 0s 1ms/step - loss: 0.3195 - mae: 0.4695 - mse: 0.3195\n",
            "Epoch 112/200\n",
            "10/10 [==============================] - 0s 1ms/step - loss: 0.2389 - mae: 0.3680 - mse: 0.2389\n",
            "Epoch 113/200\n",
            "10/10 [==============================] - 0s 1ms/step - loss: 0.5558 - mae: 0.5858 - mse: 0.5558\n",
            "Epoch 114/200\n",
            "10/10 [==============================] - 0s 1ms/step - loss: 0.1915 - mae: 0.3388 - mse: 0.1915\n",
            "Epoch 115/200\n",
            "10/10 [==============================] - 0s 1ms/step - loss: 0.2183 - mae: 0.3559 - mse: 0.2183\n",
            "Epoch 116/200\n",
            "10/10 [==============================] - 0s 998us/step - loss: 0.2312 - mae: 0.3762 - mse: 0.2312\n",
            "Epoch 117/200\n",
            "10/10 [==============================] - 0s 1ms/step - loss: 0.3549 - mae: 0.4996 - mse: 0.3549\n",
            "Epoch 118/200\n",
            "10/10 [==============================] - 0s 2ms/step - loss: 0.3110 - mae: 0.4342 - mse: 0.3110\n",
            "Epoch 119/200\n",
            "10/10 [==============================] - 0s 1ms/step - loss: 0.1738 - mae: 0.3366 - mse: 0.1738\n",
            "Epoch 120/200\n",
            "10/10 [==============================] - 0s 2ms/step - loss: 0.3958 - mae: 0.5002 - mse: 0.3958\n",
            "Epoch 121/200\n",
            "10/10 [==============================] - 0s 1ms/step - loss: 0.8830 - mae: 0.7789 - mse: 0.8830\n",
            "Epoch 122/200\n",
            "10/10 [==============================] - 0s 2ms/step - loss: 0.4212 - mae: 0.5280 - mse: 0.4212\n",
            "Epoch 123/200\n",
            "10/10 [==============================] - 0s 1ms/step - loss: 0.2842 - mae: 0.4446 - mse: 0.2842\n",
            "Epoch 124/200\n",
            "10/10 [==============================] - 0s 1ms/step - loss: 0.2857 - mae: 0.4002 - mse: 0.2857\n",
            "Epoch 125/200\n",
            "10/10 [==============================] - 0s 1ms/step - loss: 0.5480 - mae: 0.5322 - mse: 0.5480\n",
            "Epoch 126/200\n",
            "10/10 [==============================] - 0s 1ms/step - loss: 0.5386 - mae: 0.5912 - mse: 0.5386\n",
            "Epoch 127/200\n",
            "10/10 [==============================] - 0s 1ms/step - loss: 0.2217 - mae: 0.3646 - mse: 0.2217\n",
            "Epoch 128/200\n",
            "10/10 [==============================] - 0s 1ms/step - loss: 0.4735 - mae: 0.5466 - mse: 0.4735\n",
            "Epoch 129/200\n",
            "10/10 [==============================] - 0s 1ms/step - loss: 0.2485 - mae: 0.3819 - mse: 0.2485\n",
            "Epoch 130/200\n",
            "10/10 [==============================] - 0s 1ms/step - loss: 0.3902 - mae: 0.4872 - mse: 0.3902\n",
            "Epoch 131/200\n",
            "10/10 [==============================] - 0s 1ms/step - loss: 0.2744 - mae: 0.4125 - mse: 0.2744\n",
            "Epoch 132/200\n",
            "10/10 [==============================] - 0s 1ms/step - loss: 0.2972 - mae: 0.4164 - mse: 0.2972\n",
            "Epoch 133/200\n",
            "10/10 [==============================] - 0s 1ms/step - loss: 0.2745 - mae: 0.4052 - mse: 0.2745\n",
            "Epoch 134/200\n",
            "10/10 [==============================] - 0s 2ms/step - loss: 0.1729 - mae: 0.3501 - mse: 0.1729\n",
            "Epoch 135/200\n",
            "10/10 [==============================] - 0s 1ms/step - loss: 0.5724 - mae: 0.5640 - mse: 0.5724\n",
            "Epoch 136/200\n",
            "10/10 [==============================] - 0s 1ms/step - loss: 0.3282 - mae: 0.4971 - mse: 0.3282\n",
            "Epoch 137/200\n",
            "10/10 [==============================] - 0s 1ms/step - loss: 0.1992 - mae: 0.3285 - mse: 0.1992\n",
            "Epoch 138/200\n",
            "10/10 [==============================] - 0s 1ms/step - loss: 0.7444 - mae: 0.6341 - mse: 0.7444\n",
            "Epoch 139/200\n",
            "10/10 [==============================] - 0s 1ms/step - loss: 0.2626 - mae: 0.4351 - mse: 0.2626\n",
            "Epoch 140/200\n",
            "10/10 [==============================] - 0s 1ms/step - loss: 0.5175 - mae: 0.5163 - mse: 0.5175\n",
            "Epoch 141/200\n",
            "10/10 [==============================] - 0s 1ms/step - loss: 0.3142 - mae: 0.4428 - mse: 0.3142\n",
            "Epoch 142/200\n",
            "10/10 [==============================] - 0s 1ms/step - loss: 0.1792 - mae: 0.3609 - mse: 0.1792\n",
            "Epoch 143/200\n",
            "10/10 [==============================] - 0s 1ms/step - loss: 0.2919 - mae: 0.4099 - mse: 0.2919\n",
            "Epoch 144/200\n",
            "10/10 [==============================] - 0s 1ms/step - loss: 0.5664 - mae: 0.5535 - mse: 0.5664\n",
            "Epoch 145/200\n",
            "10/10 [==============================] - 0s 1ms/step - loss: 0.2169 - mae: 0.3843 - mse: 0.2169\n",
            "Epoch 146/200\n",
            "10/10 [==============================] - 0s 1ms/step - loss: 0.3054 - mae: 0.4204 - mse: 0.3054\n",
            "Epoch 147/200\n",
            "10/10 [==============================] - 0s 1ms/step - loss: 0.1988 - mae: 0.3741 - mse: 0.1988\n",
            "Epoch 148/200\n",
            "10/10 [==============================] - 0s 1ms/step - loss: 0.2731 - mae: 0.3760 - mse: 0.2731\n",
            "Epoch 149/200\n",
            "10/10 [==============================] - 0s 1ms/step - loss: 0.1738 - mae: 0.3364 - mse: 0.1738\n",
            "Epoch 150/200\n",
            "10/10 [==============================] - 0s 1ms/step - loss: 0.5995 - mae: 0.5936 - mse: 0.5995\n",
            "Epoch 151/200\n",
            "10/10 [==============================] - 0s 2ms/step - loss: 0.3315 - mae: 0.4207 - mse: 0.3315\n",
            "Epoch 152/200\n",
            "10/10 [==============================] - 0s 2ms/step - loss: 0.2122 - mae: 0.3562 - mse: 0.2122\n",
            "Epoch 153/200\n",
            "10/10 [==============================] - 0s 2ms/step - loss: 0.5835 - mae: 0.5471 - mse: 0.5835\n",
            "Epoch 154/200\n",
            "10/10 [==============================] - 0s 2ms/step - loss: 0.3150 - mae: 0.4616 - mse: 0.3150\n",
            "Epoch 155/200\n",
            "10/10 [==============================] - 0s 2ms/step - loss: 0.8182 - mae: 0.7285 - mse: 0.8182\n",
            "Epoch 156/200\n",
            "10/10 [==============================] - 0s 1ms/step - loss: 0.2916 - mae: 0.3990 - mse: 0.2916\n",
            "Epoch 157/200\n",
            "10/10 [==============================] - 0s 1ms/step - loss: 0.2971 - mae: 0.3759 - mse: 0.2971\n",
            "Epoch 158/200\n",
            "10/10 [==============================] - 0s 2ms/step - loss: 0.2364 - mae: 0.4113 - mse: 0.2364\n",
            "Epoch 159/200\n",
            "10/10 [==============================] - 0s 2ms/step - loss: 0.2849 - mae: 0.4386 - mse: 0.2849\n",
            "Epoch 160/200\n",
            "10/10 [==============================] - 0s 1ms/step - loss: 0.2842 - mae: 0.4249 - mse: 0.2842\n",
            "Epoch 161/200\n",
            "10/10 [==============================] - 0s 2ms/step - loss: 0.2872 - mae: 0.4373 - mse: 0.2872\n",
            "Epoch 162/200\n",
            "10/10 [==============================] - 0s 1ms/step - loss: 0.4109 - mae: 0.5298 - mse: 0.4109\n",
            "Epoch 163/200\n",
            "10/10 [==============================] - 0s 1ms/step - loss: 0.4325 - mae: 0.4857 - mse: 0.4325\n",
            "Epoch 164/200\n",
            "10/10 [==============================] - 0s 1ms/step - loss: 0.2677 - mae: 0.4293 - mse: 0.2677\n",
            "Epoch 165/200\n",
            "10/10 [==============================] - 0s 1ms/step - loss: 0.1348 - mae: 0.2773 - mse: 0.1348\n",
            "Epoch 166/200\n",
            "10/10 [==============================] - 0s 1ms/step - loss: 0.7438 - mae: 0.6346 - mse: 0.7438\n",
            "Epoch 167/200\n",
            "10/10 [==============================] - 0s 1ms/step - loss: 0.3561 - mae: 0.4454 - mse: 0.3561\n",
            "Epoch 168/200\n",
            "10/10 [==============================] - 0s 1ms/step - loss: 0.2939 - mae: 0.4504 - mse: 0.2939\n",
            "Epoch 169/200\n",
            "10/10 [==============================] - 0s 1ms/step - loss: 0.4681 - mae: 0.5181 - mse: 0.4681\n",
            "Epoch 170/200\n",
            "10/10 [==============================] - 0s 1ms/step - loss: 0.3065 - mae: 0.4405 - mse: 0.3065\n",
            "Epoch 171/200\n",
            "10/10 [==============================] - 0s 1ms/step - loss: 0.2935 - mae: 0.4557 - mse: 0.2935\n",
            "Epoch 172/200\n",
            "10/10 [==============================] - 0s 1ms/step - loss: 0.3230 - mae: 0.4262 - mse: 0.3230\n",
            "Epoch 173/200\n",
            "10/10 [==============================] - 0s 1ms/step - loss: 0.2087 - mae: 0.3784 - mse: 0.2087\n",
            "Epoch 174/200\n",
            "10/10 [==============================] - 0s 1ms/step - loss: 0.2287 - mae: 0.3510 - mse: 0.2287\n",
            "Epoch 175/200\n",
            "10/10 [==============================] - 0s 1ms/step - loss: 0.7907 - mae: 0.6916 - mse: 0.7907\n",
            "Epoch 176/200\n",
            "10/10 [==============================] - 0s 3ms/step - loss: 0.5364 - mae: 0.5284 - mse: 0.5364\n",
            "Epoch 177/200\n",
            "10/10 [==============================] - 0s 1ms/step - loss: 0.8665 - mae: 0.7372 - mse: 0.8665\n",
            "Epoch 178/200\n",
            "10/10 [==============================] - 0s 2ms/step - loss: 0.5847 - mae: 0.6224 - mse: 0.5847\n",
            "Epoch 179/200\n",
            "10/10 [==============================] - 0s 1ms/step - loss: 0.3880 - mae: 0.4856 - mse: 0.3880\n",
            "Epoch 180/200\n",
            "10/10 [==============================] - 0s 2ms/step - loss: 0.6278 - mae: 0.6221 - mse: 0.6278\n",
            "Epoch 181/200\n",
            "10/10 [==============================] - 0s 1ms/step - loss: 0.3030 - mae: 0.4625 - mse: 0.3030\n",
            "Epoch 182/200\n",
            "10/10 [==============================] - 0s 2ms/step - loss: 0.3913 - mae: 0.5006 - mse: 0.3913\n",
            "Epoch 183/200\n",
            "10/10 [==============================] - 0s 1ms/step - loss: 0.3108 - mae: 0.4393 - mse: 0.3108\n",
            "Epoch 184/200\n",
            "10/10 [==============================] - 0s 1ms/step - loss: 0.7759 - mae: 0.6817 - mse: 0.7759\n",
            "Epoch 185/200\n",
            "10/10 [==============================] - 0s 1ms/step - loss: 0.3121 - mae: 0.4355 - mse: 0.3121\n",
            "Epoch 186/200\n",
            "10/10 [==============================] - 0s 1ms/step - loss: 0.2102 - mae: 0.3742 - mse: 0.2102\n",
            "Epoch 187/200\n",
            "10/10 [==============================] - 0s 1ms/step - loss: 0.3768 - mae: 0.4584 - mse: 0.3768\n",
            "Epoch 188/200\n",
            "10/10 [==============================] - 0s 1ms/step - loss: 0.2540 - mae: 0.4124 - mse: 0.2540\n",
            "Epoch 189/200\n",
            "10/10 [==============================] - 0s 1ms/step - loss: 0.2638 - mae: 0.4008 - mse: 0.2638\n",
            "Epoch 190/200\n",
            "10/10 [==============================] - 0s 1ms/step - loss: 0.2589 - mae: 0.3931 - mse: 0.2589\n",
            "Epoch 191/200\n",
            "10/10 [==============================] - 0s 1ms/step - loss: 0.7691 - mae: 0.6632 - mse: 0.7691\n",
            "Epoch 192/200\n",
            "10/10 [==============================] - 0s 1ms/step - loss: 0.3811 - mae: 0.5016 - mse: 0.3811\n",
            "Epoch 193/200\n",
            "10/10 [==============================] - 0s 2ms/step - loss: 0.4022 - mae: 0.4684 - mse: 0.4022\n",
            "Epoch 194/200\n",
            "10/10 [==============================] - 0s 1ms/step - loss: 0.2712 - mae: 0.4048 - mse: 0.2712\n",
            "Epoch 195/200\n",
            "10/10 [==============================] - 0s 1ms/step - loss: 0.2530 - mae: 0.3485 - mse: 0.2530\n",
            "Epoch 196/200\n",
            "10/10 [==============================] - 0s 1ms/step - loss: 0.4426 - mae: 0.5243 - mse: 0.4426\n",
            "Epoch 197/200\n",
            "10/10 [==============================] - 0s 2ms/step - loss: 0.3621 - mae: 0.4244 - mse: 0.3621\n",
            "Epoch 198/200\n",
            "10/10 [==============================] - 0s 2ms/step - loss: 0.2078 - mae: 0.3295 - mse: 0.2078\n",
            "Epoch 199/200\n",
            "10/10 [==============================] - 0s 1ms/step - loss: 0.3584 - mae: 0.4830 - mse: 0.3584\n",
            "Epoch 200/200\n",
            "10/10 [==============================] - 0s 1ms/step - loss: 0.2087 - mae: 0.3927 - mse: 0.2087\n"
          ],
          "name": "stdout"
        },
        {
          "output_type": "execute_result",
          "data": {
            "text/plain": [
              "<tensorflow.python.keras.callbacks.History at 0x7fb221a42828>"
            ]
          },
          "metadata": {
            "tags": []
          },
          "execution_count": 21
        }
      ]
    }
  ]
}